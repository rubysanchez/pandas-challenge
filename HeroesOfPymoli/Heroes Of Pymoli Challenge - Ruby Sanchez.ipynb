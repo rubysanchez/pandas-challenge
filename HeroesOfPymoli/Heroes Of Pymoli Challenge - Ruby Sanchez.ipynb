{
 "cells": [
  {
   "cell_type": "code",
   "execution_count": 114,
   "id": "f682032a",
   "metadata": {},
   "outputs": [],
   "source": [
    "# Dependencies and Setup\n",
    "import pandas as pd\n",
    "import numpy as np\n",
    "\n",
    "# File to Load\n",
    "purchase_csv = \"purchase_data.csv\"\n",
    "\n",
    "# Read Purchasing File and store into Pandas data frame\n",
    "purchase_df = pd.read_csv(purchase_csv)"
   ]
  },
  {
   "cell_type": "markdown",
   "id": "326ad805",
   "metadata": {},
   "source": [
    "## Player Count"
   ]
  },
  {
   "cell_type": "code",
   "execution_count": 35,
   "id": "b7a0af4c",
   "metadata": {},
   "outputs": [
    {
     "data": {
      "text/html": [
       "<div>\n",
       "<style scoped>\n",
       "    .dataframe tbody tr th:only-of-type {\n",
       "        vertical-align: middle;\n",
       "    }\n",
       "\n",
       "    .dataframe tbody tr th {\n",
       "        vertical-align: top;\n",
       "    }\n",
       "\n",
       "    .dataframe thead th {\n",
       "        text-align: right;\n",
       "    }\n",
       "</style>\n",
       "<table border=\"1\" class=\"dataframe\">\n",
       "  <thead>\n",
       "    <tr style=\"text-align: right;\">\n",
       "      <th></th>\n",
       "      <th>Total Players</th>\n",
       "    </tr>\n",
       "  </thead>\n",
       "  <tbody>\n",
       "    <tr>\n",
       "      <th>0</th>\n",
       "      <td>576</td>\n",
       "    </tr>\n",
       "  </tbody>\n",
       "</table>\n",
       "</div>"
      ],
      "text/plain": [
       "   Total Players\n",
       "0            576"
      ]
     },
     "execution_count": 35,
     "metadata": {},
     "output_type": "execute_result"
    }
   ],
   "source": [
    "#Calculate the number of unique players in the data frame. Use the 'SN' column\n",
    "\n",
    "player_count = len(purchase_df[\"SN\"].unique())\n",
    "\n",
    "#display the player count in a summary player count data frame\n",
    "\n",
    "player_count_df = pd.DataFrame({\"Total Players\": [player_count]})\n",
    "player_count_df"
   ]
  },
  {
   "cell_type": "markdown",
   "id": "c62f6667",
   "metadata": {},
   "source": [
    "## Purchasing Analysis (Total)"
   ]
  },
  {
   "cell_type": "code",
   "execution_count": 36,
   "id": "b10a362a",
   "metadata": {},
   "outputs": [],
   "source": [
    "#Run basic calculations to obtain number of unique items, average price, total # of purchases, Total Revenue\n",
    "\n",
    "#Number of unique items is unique values in column 'Item ID'\n",
    "item_count = len(purchase_df[\"Item ID\"].unique())\n",
    "\n",
    "\n",
    "#Average price is average of all prices in column 'Price'\n",
    "avg_price = purchase_df[\"Price\"].mean()\n",
    "\n",
    "\n",
    "#Total # of purchases is the total number of rows in data frame. Can count 'Purchase ID' column\n",
    "purchase_count = len(purchase_df[\"Purchase ID\"])\n",
    "\n",
    "\n",
    "#Total Revenue is sum of column 'Price'\n",
    "total_revenue = purchase_df[\"Price\"].sum()\n"
   ]
  },
  {
   "cell_type": "code",
   "execution_count": 37,
   "id": "86123901",
   "metadata": {},
   "outputs": [
    {
     "data": {
      "text/html": [
       "<div>\n",
       "<style scoped>\n",
       "    .dataframe tbody tr th:only-of-type {\n",
       "        vertical-align: middle;\n",
       "    }\n",
       "\n",
       "    .dataframe tbody tr th {\n",
       "        vertical-align: top;\n",
       "    }\n",
       "\n",
       "    .dataframe thead th {\n",
       "        text-align: right;\n",
       "    }\n",
       "</style>\n",
       "<table border=\"1\" class=\"dataframe\">\n",
       "  <thead>\n",
       "    <tr style=\"text-align: right;\">\n",
       "      <th></th>\n",
       "      <th>Number of Unique Items</th>\n",
       "      <th>Average Price</th>\n",
       "      <th>Number of Purchases</th>\n",
       "      <th>Total Revenue</th>\n",
       "    </tr>\n",
       "  </thead>\n",
       "  <tbody>\n",
       "    <tr>\n",
       "      <th>0</th>\n",
       "      <td>179</td>\n",
       "      <td>3.050987</td>\n",
       "      <td>780</td>\n",
       "      <td>2379.77</td>\n",
       "    </tr>\n",
       "  </tbody>\n",
       "</table>\n",
       "</div>"
      ],
      "text/plain": [
       "   Number of Unique Items  Average Price  Number of Purchases  Total Revenue\n",
       "0                     179       3.050987                  780        2379.77"
      ]
     },
     "execution_count": 37,
     "metadata": {},
     "output_type": "execute_result"
    }
   ],
   "source": [
    "#Create a Summary Data Frame to hold the results \n",
    "\n",
    "purchase_analysis_df = pd.DataFrame({\"Number of Unique Items\": [item_count],\n",
    "                                    \"Average Price\": [avg_price],\n",
    "                                    \"Number of Purchases\": [purchase_count],\n",
    "                                    \"Total Revenue\": [total_revenue]})\n",
    "purchase_analysis_df"
   ]
  },
  {
   "cell_type": "markdown",
   "id": "c987bdd3",
   "metadata": {},
   "source": [
    "# Gender Demographics"
   ]
  },
  {
   "cell_type": "code",
   "execution_count": 57,
   "id": "c8eaf98c",
   "metadata": {},
   "outputs": [],
   "source": [
    "#Percentage and Count of 'Male' Players\n",
    "#Percentage and Count of 'Female' Players\n",
    "#Percentage and Count of 'Other / Non-Disclosed' Players\n",
    "\n",
    "#Male Count and Percentage\n",
    "total_male = purchase_df.groupby(['Gender']).get_group(('Male'))\n",
    "unique_male_count = len(total_male[\"SN\"].unique())\n",
    "male_percent = round((unique_male_count/player_count)*100,2)\n",
    "\n",
    "#Female Count and Percentage\n",
    "total_female = purchase_df.groupby(['Gender']).get_group(('Female'))\n",
    "unique_female_count = len(total_female[\"SN\"].unique())\n",
    "female_percent = round((unique_female_count/player_count)*100,2)\n",
    "\n",
    "#Other Count and Percentage\n",
    "total_other = purchase_df.groupby(['Gender']).get_group(('Other / Non-Disclosed'))\n",
    "unique_other_count = len(total_other[\"SN\"].unique())\n",
    "other_percent = round((unique_other_count/player_count)*100,2)\n"
   ]
  },
  {
   "cell_type": "code",
   "execution_count": 63,
   "id": "598f724c",
   "metadata": {},
   "outputs": [
    {
     "data": {
      "text/html": [
       "<div>\n",
       "<style scoped>\n",
       "    .dataframe tbody tr th:only-of-type {\n",
       "        vertical-align: middle;\n",
       "    }\n",
       "\n",
       "    .dataframe tbody tr th {\n",
       "        vertical-align: top;\n",
       "    }\n",
       "\n",
       "    .dataframe thead th {\n",
       "        text-align: right;\n",
       "    }\n",
       "</style>\n",
       "<table border=\"1\" class=\"dataframe\">\n",
       "  <thead>\n",
       "    <tr style=\"text-align: right;\">\n",
       "      <th></th>\n",
       "      <th>Total Count</th>\n",
       "      <th>Percentage of Players</th>\n",
       "    </tr>\n",
       "    <tr>\n",
       "      <th>Gender</th>\n",
       "      <th></th>\n",
       "      <th></th>\n",
       "    </tr>\n",
       "  </thead>\n",
       "  <tbody>\n",
       "    <tr>\n",
       "      <th>Male</th>\n",
       "      <td>484</td>\n",
       "      <td>84.03</td>\n",
       "    </tr>\n",
       "    <tr>\n",
       "      <th>Female</th>\n",
       "      <td>81</td>\n",
       "      <td>14.06</td>\n",
       "    </tr>\n",
       "    <tr>\n",
       "      <th>Other / Non-Disclosed</th>\n",
       "      <td>11</td>\n",
       "      <td>1.91</td>\n",
       "    </tr>\n",
       "  </tbody>\n",
       "</table>\n",
       "</div>"
      ],
      "text/plain": [
       "                       Total Count  Percentage of Players\n",
       "Gender                                                   \n",
       "Male                           484                  84.03\n",
       "Female                          81                  14.06\n",
       "Other / Non-Disclosed           11                   1.91"
      ]
     },
     "execution_count": 63,
     "metadata": {},
     "output_type": "execute_result"
    }
   ],
   "source": [
    "#Summarize in Data Frame with Gender as a column then convert the Gender column to the Index\n",
    "\n",
    "gender_demographics_df = pd.DataFrame ({\"Total Count\": [unique_male_count, unique_female_count, unique_other_count], \n",
    "                                        \"Percentage of Players\": [male_percent, female_percent, other_percent],\n",
    "                                       \"Gender\": [\"Male\", \"Female\", \"Other / Non-Disclosed\"]})\n",
    "\n",
    "gender_indexed_demographics_df = gender_demographics_df.set_index(\"Gender\")\n",
    "gender_indexed_demographics_df\n"
   ]
  },
  {
   "cell_type": "markdown",
   "id": "4aae6edf",
   "metadata": {},
   "source": [
    "## Purchasing Analysis (Gender) "
   ]
  },
  {
   "cell_type": "code",
   "execution_count": 90,
   "id": "ca35bbd8",
   "metadata": {},
   "outputs": [
    {
     "data": {
      "text/html": [
       "<div>\n",
       "<style scoped>\n",
       "    .dataframe tbody tr th:only-of-type {\n",
       "        vertical-align: middle;\n",
       "    }\n",
       "\n",
       "    .dataframe tbody tr th {\n",
       "        vertical-align: top;\n",
       "    }\n",
       "\n",
       "    .dataframe thead th {\n",
       "        text-align: right;\n",
       "    }\n",
       "</style>\n",
       "<table border=\"1\" class=\"dataframe\">\n",
       "  <thead>\n",
       "    <tr style=\"text-align: right;\">\n",
       "      <th></th>\n",
       "      <th>Purchase Count</th>\n",
       "      <th>Average Purchase Price</th>\n",
       "      <th>Total Purchase Value</th>\n",
       "      <th>Avg Total Purchase per Person</th>\n",
       "    </tr>\n",
       "    <tr>\n",
       "      <th>Gender</th>\n",
       "      <th></th>\n",
       "      <th></th>\n",
       "      <th></th>\n",
       "      <th></th>\n",
       "    </tr>\n",
       "  </thead>\n",
       "  <tbody>\n",
       "    <tr>\n",
       "      <th>Female</th>\n",
       "      <td>113</td>\n",
       "      <td>3.20</td>\n",
       "      <td>361.94</td>\n",
       "      <td>4.47</td>\n",
       "    </tr>\n",
       "    <tr>\n",
       "      <th>Male</th>\n",
       "      <td>652</td>\n",
       "      <td>3.02</td>\n",
       "      <td>1967.64</td>\n",
       "      <td>4.07</td>\n",
       "    </tr>\n",
       "    <tr>\n",
       "      <th>Other / Non-Disclosed</th>\n",
       "      <td>15</td>\n",
       "      <td>3.35</td>\n",
       "      <td>50.19</td>\n",
       "      <td>4.56</td>\n",
       "    </tr>\n",
       "  </tbody>\n",
       "</table>\n",
       "</div>"
      ],
      "text/plain": [
       "                       Purchase Count  Average Purchase Price  \\\n",
       "Gender                                                          \n",
       "Female                            113                    3.20   \n",
       "Male                              652                    3.02   \n",
       "Other / Non-Disclosed              15                    3.35   \n",
       "\n",
       "                       Total Purchase Value  Avg Total Purchase per Person  \n",
       "Gender                                                                      \n",
       "Female                               361.94                           4.47  \n",
       "Male                                1967.64                           4.07  \n",
       "Other / Non-Disclosed                 50.19                           4.56  "
      ]
     },
     "execution_count": 90,
     "metadata": {},
     "output_type": "execute_result"
    }
   ],
   "source": [
    "#Unique count of individuals by gender\n",
    "unique_gender_count =purchase_df.groupby(\"Gender\")[\"SN\"].nunique()\n",
    "\n",
    "#Purchase count by gender \n",
    "gender_purchase_count = purchase_df.groupby(\"Gender\")[\"Item ID\"].count()\n",
    "\n",
    "#Total value purchased by gender \n",
    "gender_total_purchase = purchase_df.groupby(\"Gender\")[\"Price\"].sum()\n",
    "\n",
    "\n",
    "#Create data frame that's grouped by Gender and assign \"Purchase Count\" as first column\n",
    "gender_df = gender_purchase_count.to_frame(\"Purchase Count\")\n",
    "\n",
    "#Add the Average purchase price by gender\n",
    "gender_df[\"Average Purchase Price\"] = round((gender_total_purchase/gender_purchase_count),2)\n",
    "\n",
    "#Add the Total Purchase Value\n",
    "gender_df[\"Total Purchase Value\"] = round(gender_total_purchase,2)\n",
    "\n",
    "#Add the Average Total Purchase\n",
    "gender_df[\"Avg Total Purchase per Person\"] = round((gender_total_purchase/unique_gender_count),2)\n",
    "gender_df"
   ]
  },
  {
   "cell_type": "markdown",
   "id": "08406922",
   "metadata": {},
   "source": [
    "# Age Demographics"
   ]
  },
  {
   "cell_type": "code",
   "execution_count": 121,
   "id": "08835dca",
   "metadata": {},
   "outputs": [],
   "source": [
    "# Create the bins in which Data will be held\n",
    "bins = [0,9,14,19,24,29,34,39,46]\n",
    "\n",
    "# Create the names for the eight bins\n",
    "group_names = [\"<10\",\"10-14\",\"15-19\",\"20-24\",\"25-29\",\"30-34\",\"35-39\",\"40+\"]\n"
   ]
  },
  {
   "cell_type": "code",
   "execution_count": 122,
   "id": "5ee829f9",
   "metadata": {},
   "outputs": [],
   "source": [
    "purchase_df[\"Age Summary\"] = pd.cut(purchase_df[\"Age\"],bins,labels=group_names)"
   ]
  },
  {
   "cell_type": "code",
   "execution_count": 118,
   "id": "f05e6242",
   "metadata": {},
   "outputs": [
    {
     "data": {
      "text/plain": [
       "Index(['Purchase ID', 'SN', 'Age', 'Gender', 'Item ID', 'Item Name', 'Price',\n",
       "       'Age Summary'],\n",
       "      dtype='object')"
      ]
     },
     "execution_count": 118,
     "metadata": {},
     "output_type": "execute_result"
    }
   ],
   "source": [
    "purchase_df.columns"
   ]
  },
  {
   "cell_type": "code",
   "execution_count": 123,
   "id": "17d2dc73",
   "metadata": {},
   "outputs": [
    {
     "data": {
      "text/html": [
       "<div>\n",
       "<style scoped>\n",
       "    .dataframe tbody tr th:only-of-type {\n",
       "        vertical-align: middle;\n",
       "    }\n",
       "\n",
       "    .dataframe tbody tr th {\n",
       "        vertical-align: top;\n",
       "    }\n",
       "\n",
       "    .dataframe thead th {\n",
       "        text-align: right;\n",
       "    }\n",
       "</style>\n",
       "<table border=\"1\" class=\"dataframe\">\n",
       "  <thead>\n",
       "    <tr style=\"text-align: right;\">\n",
       "      <th></th>\n",
       "      <th>Total Count</th>\n",
       "      <th>Percentage of Players</th>\n",
       "    </tr>\n",
       "    <tr>\n",
       "      <th>Age Summary</th>\n",
       "      <th></th>\n",
       "      <th></th>\n",
       "    </tr>\n",
       "  </thead>\n",
       "  <tbody>\n",
       "    <tr>\n",
       "      <th>&lt;10</th>\n",
       "      <td>17</td>\n",
       "      <td>2.95</td>\n",
       "    </tr>\n",
       "    <tr>\n",
       "      <th>10-14</th>\n",
       "      <td>22</td>\n",
       "      <td>3.82</td>\n",
       "    </tr>\n",
       "    <tr>\n",
       "      <th>15-19</th>\n",
       "      <td>107</td>\n",
       "      <td>18.58</td>\n",
       "    </tr>\n",
       "    <tr>\n",
       "      <th>20-24</th>\n",
       "      <td>258</td>\n",
       "      <td>44.79</td>\n",
       "    </tr>\n",
       "    <tr>\n",
       "      <th>25-29</th>\n",
       "      <td>77</td>\n",
       "      <td>13.37</td>\n",
       "    </tr>\n",
       "    <tr>\n",
       "      <th>30-34</th>\n",
       "      <td>52</td>\n",
       "      <td>9.03</td>\n",
       "    </tr>\n",
       "    <tr>\n",
       "      <th>35-39</th>\n",
       "      <td>31</td>\n",
       "      <td>5.38</td>\n",
       "    </tr>\n",
       "    <tr>\n",
       "      <th>40+</th>\n",
       "      <td>12</td>\n",
       "      <td>2.08</td>\n",
       "    </tr>\n",
       "  </tbody>\n",
       "</table>\n",
       "</div>"
      ],
      "text/plain": [
       "             Total Count  Percentage of Players\n",
       "Age Summary                                    \n",
       "<10                   17                   2.95\n",
       "10-14                 22                   3.82\n",
       "15-19                107                  18.58\n",
       "20-24                258                  44.79\n",
       "25-29                 77                  13.37\n",
       "30-34                 52                   9.03\n",
       "35-39                 31                   5.38\n",
       "40+                   12                   2.08"
      ]
     },
     "execution_count": 123,
     "metadata": {},
     "output_type": "execute_result"
    }
   ],
   "source": [
    "#Total Counts and Percentages of Players should be based on unique count of 'SN' since there are dups\n",
    "\n",
    "##Unique count of individuals by \"Age Summary\" group\n",
    "unique_age_count = purchase_df.groupby(\"Age Summary\")[\"SN\"].nunique()\n",
    "\n",
    "#Create data frame that's grouped by Age and assign \"Total Count\" as first column\n",
    "age_bin_df = unique_age_count.to_frame(\"Total Count\").sort_index()\n",
    "\n",
    "\n",
    "#Add the Percentage of Players as a column\n",
    "age_bin_df[\"Percentage of Players\"] = round((unique_age_count/player_count)*100,2)\n",
    "\n",
    "\n",
    "\n",
    "age_bin_df"
   ]
  },
  {
   "cell_type": "markdown",
   "id": "2ba1ae90",
   "metadata": {},
   "source": [
    "## Purchasing Analysis (Age)"
   ]
  },
  {
   "cell_type": "code",
   "execution_count": null,
   "id": "7af9a232",
   "metadata": {},
   "outputs": [],
   "source": []
  }
 ],
 "metadata": {
  "kernelspec": {
   "display_name": "Python 3",
   "language": "python",
   "name": "python3"
  },
  "language_info": {
   "codemirror_mode": {
    "name": "ipython",
    "version": 3
   },
   "file_extension": ".py",
   "mimetype": "text/x-python",
   "name": "python",
   "nbconvert_exporter": "python",
   "pygments_lexer": "ipython3",
   "version": "3.8.8"
  }
 },
 "nbformat": 4,
 "nbformat_minor": 5
}
